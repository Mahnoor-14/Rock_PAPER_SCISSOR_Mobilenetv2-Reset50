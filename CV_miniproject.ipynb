{
  "nbformat": 4,
  "nbformat_minor": 0,
  "metadata": {
    "colab": {
      "provenance": []
    },
    "kernelspec": {
      "name": "python3",
      "display_name": "Python 3"
    },
    "language_info": {
      "name": "python"
    }
  },
  "cells": [
    {
      "cell_type": "markdown",
      "source": [
        "Loading Dataset"
      ],
      "metadata": {
        "id": "xdXHSEfx34EW"
      }
    },
    {
      "cell_type": "code",
      "execution_count": 19,
      "metadata": {
        "id": "aLc2ZHgDiSbH"
      },
      "outputs": [],
      "source": [
        "import tensorflow_datasets as tfds\n",
        "(train_ds, val_ds), ds_info = tfds.load(\n",
        "    'rock_paper_scissors',\n",
        "    split=['train[:80%]', 'train[80%:]'],\n",
        "    as_supervised=True,\n",
        "    with_info=True\n",
        ")\n"
      ]
    },
    {
      "cell_type": "code",
      "source": [
        "from tensorflow.keras.applications.mobilenet_v2 import preprocess_input\n",
        "from tensorflow.keras.preprocessing import image\n",
        "from tensorflow.keras import layers\n",
        "import tensorflow as tf\n",
        "\n",
        "IMG_SIZE = 224\n",
        "BATCH_SIZE = 32\n",
        "\n",
        "def preprocess(image, label):\n",
        "    image = tf.image.resize(image, (IMG_SIZE, IMG_SIZE))\n",
        "    return preprocess_input(image), label\n",
        "\n",
        "train_ds = train_ds.map(preprocess).shuffle(1000).batch(BATCH_SIZE).prefetch(1)\n",
        "val_ds = val_ds.map(preprocess).batch(BATCH_SIZE).prefetch(1)\n"
      ],
      "metadata": {
        "id": "1PPrNj-H4KPT"
      },
      "execution_count": 20,
      "outputs": []
    },
    {
      "cell_type": "markdown",
      "source": [
        "Loading Pretained Based Model"
      ],
      "metadata": {
        "id": "mkLk9ulK4dd0"
      }
    },
    {
      "cell_type": "markdown",
      "source": [
        "Mobilenet V2"
      ],
      "metadata": {
        "id": "JJsPvx0YKdSY"
      }
    },
    {
      "cell_type": "code",
      "source": [
        "base_model = tf.keras.applications.MobileNetV2(\n",
        "    input_shape=(IMG_SIZE, IMG_SIZE, 3),\n",
        "    include_top=False,\n",
        "    weights='imagenet'\n",
        ")\n",
        "base_model.trainable = False\n"
      ],
      "metadata": {
        "id": "UTjnXqXv4RwZ"
      },
      "execution_count": 21,
      "outputs": []
    },
    {
      "cell_type": "code",
      "source": [
        "model = tf.keras.Sequential([\n",
        "    base_model,\n",
        "    layers.GlobalAveragePooling2D(),\n",
        "    layers.Dropout(0.3),\n",
        "    layers.Dense(3, activation='softmax')  # 3 classes for RPS\n",
        "])\n",
        "model.compile(optimizer='adam', loss='sparse_categorical_crossentropy', metrics=['accuracy'])\n"
      ],
      "metadata": {
        "id": "k28XjxRq4hFz"
      },
      "execution_count": 22,
      "outputs": []
    },
    {
      "cell_type": "code",
      "source": [
        "early_stop = tf.keras.callbacks.EarlyStopping(patience=5, restore_best_weights=True)\n",
        "reduce_lr = tf.keras.callbacks.ReduceLROnPlateau(patience=3)\n",
        "\n",
        "history = model.fit(\n",
        "    train_ds,\n",
        "    validation_data=val_ds,\n",
        "    epochs=20,\n",
        "    callbacks=[early_stop, reduce_lr]\n",
        ")\n"
      ],
      "metadata": {
        "colab": {
          "base_uri": "https://localhost:8080/"
        },
        "id": "gxvWt_Db6M6A",
        "outputId": "45b41d4f-6294-4593-f67c-8fd35f2d11bb"
      },
      "execution_count": 24,
      "outputs": [
        {
          "output_type": "stream",
          "name": "stdout",
          "text": [
            "Epoch 1/20\n",
            "\u001b[1m63/63\u001b[0m \u001b[32m━━━━━━━━━━━━━━━━━━━━\u001b[0m\u001b[37m\u001b[0m \u001b[1m99s\u001b[0m 2s/step - accuracy: 0.6482 - loss: 0.7826 - val_accuracy: 0.9861 - val_loss: 0.1171 - learning_rate: 0.0010\n",
            "Epoch 2/20\n",
            "\u001b[1m63/63\u001b[0m \u001b[32m━━━━━━━━━━━━━━━━━━━━\u001b[0m\u001b[37m\u001b[0m \u001b[1m134s\u001b[0m 1s/step - accuracy: 0.9665 - loss: 0.1436 - val_accuracy: 0.9960 - val_loss: 0.0530 - learning_rate: 0.0010\n",
            "Epoch 3/20\n",
            "\u001b[1m63/63\u001b[0m \u001b[32m━━━━━━━━━━━━━━━━━━━━\u001b[0m\u001b[37m\u001b[0m \u001b[1m147s\u001b[0m 2s/step - accuracy: 0.9942 - loss: 0.0658 - val_accuracy: 1.0000 - val_loss: 0.0327 - learning_rate: 0.0010\n",
            "Epoch 4/20\n",
            "\u001b[1m63/63\u001b[0m \u001b[32m━━━━━━━━━━━━━━━━━━━━\u001b[0m\u001b[37m\u001b[0m \u001b[1m90s\u001b[0m 1s/step - accuracy: 0.9925 - loss: 0.0425 - val_accuracy: 1.0000 - val_loss: 0.0230 - learning_rate: 0.0010\n",
            "Epoch 5/20\n",
            "\u001b[1m63/63\u001b[0m \u001b[32m━━━━━━━━━━━━━━━━━━━━\u001b[0m\u001b[37m\u001b[0m \u001b[1m150s\u001b[0m 2s/step - accuracy: 0.9956 - loss: 0.0370 - val_accuracy: 1.0000 - val_loss: 0.0172 - learning_rate: 0.0010\n",
            "Epoch 6/20\n",
            "\u001b[1m63/63\u001b[0m \u001b[32m━━━━━━━━━━━━━━━━━━━━\u001b[0m\u001b[37m\u001b[0m \u001b[1m90s\u001b[0m 1s/step - accuracy: 0.9999 - loss: 0.0205 - val_accuracy: 1.0000 - val_loss: 0.0135 - learning_rate: 0.0010\n",
            "Epoch 7/20\n",
            "\u001b[1m63/63\u001b[0m \u001b[32m━━━━━━━━━━━━━━━━━━━━\u001b[0m\u001b[37m\u001b[0m \u001b[1m94s\u001b[0m 1s/step - accuracy: 0.9991 - loss: 0.0206 - val_accuracy: 1.0000 - val_loss: 0.0108 - learning_rate: 0.0010\n",
            "Epoch 8/20\n",
            "\u001b[1m63/63\u001b[0m \u001b[32m━━━━━━━━━━━━━━━━━━━━\u001b[0m\u001b[37m\u001b[0m \u001b[1m89s\u001b[0m 1s/step - accuracy: 0.9970 - loss: 0.0185 - val_accuracy: 1.0000 - val_loss: 0.0090 - learning_rate: 0.0010\n",
            "Epoch 9/20\n",
            "\u001b[1m63/63\u001b[0m \u001b[32m━━━━━━━━━━━━━━━━━━━━\u001b[0m\u001b[37m\u001b[0m \u001b[1m87s\u001b[0m 1s/step - accuracy: 0.9989 - loss: 0.0141 - val_accuracy: 1.0000 - val_loss: 0.0079 - learning_rate: 0.0010\n",
            "Epoch 10/20\n",
            "\u001b[1m63/63\u001b[0m \u001b[32m━━━━━━━━━━━━━━━━━━━━\u001b[0m\u001b[37m\u001b[0m \u001b[1m86s\u001b[0m 1s/step - accuracy: 0.9986 - loss: 0.0137 - val_accuracy: 1.0000 - val_loss: 0.0064 - learning_rate: 0.0010\n",
            "Epoch 11/20\n",
            "\u001b[1m63/63\u001b[0m \u001b[32m━━━━━━━━━━━━━━━━━━━━\u001b[0m\u001b[37m\u001b[0m \u001b[1m141s\u001b[0m 1s/step - accuracy: 0.9991 - loss: 0.0126 - val_accuracy: 1.0000 - val_loss: 0.0055 - learning_rate: 0.0010\n",
            "Epoch 12/20\n",
            "\u001b[1m63/63\u001b[0m \u001b[32m━━━━━━━━━━━━━━━━━━━━\u001b[0m\u001b[37m\u001b[0m \u001b[1m86s\u001b[0m 1s/step - accuracy: 1.0000 - loss: 0.0090 - val_accuracy: 1.0000 - val_loss: 0.0048 - learning_rate: 0.0010\n",
            "Epoch 13/20\n",
            "\u001b[1m63/63\u001b[0m \u001b[32m━━━━━━━━━━━━━━━━━━━━\u001b[0m\u001b[37m\u001b[0m \u001b[1m86s\u001b[0m 1s/step - accuracy: 1.0000 - loss: 0.0082 - val_accuracy: 1.0000 - val_loss: 0.0045 - learning_rate: 0.0010\n",
            "Epoch 14/20\n",
            "\u001b[1m63/63\u001b[0m \u001b[32m━━━━━━━━━━━━━━━━━━━━\u001b[0m\u001b[37m\u001b[0m \u001b[1m86s\u001b[0m 1s/step - accuracy: 1.0000 - loss: 0.0064 - val_accuracy: 1.0000 - val_loss: 0.0038 - learning_rate: 0.0010\n",
            "Epoch 15/20\n",
            "\u001b[1m63/63\u001b[0m \u001b[32m━━━━━━━━━━━━━━━━━━━━\u001b[0m\u001b[37m\u001b[0m \u001b[1m87s\u001b[0m 1s/step - accuracy: 0.9997 - loss: 0.0073 - val_accuracy: 1.0000 - val_loss: 0.0035 - learning_rate: 0.0010\n",
            "Epoch 16/20\n",
            "\u001b[1m63/63\u001b[0m \u001b[32m━━━━━━━━━━━━━━━━━━━━\u001b[0m\u001b[37m\u001b[0m \u001b[1m86s\u001b[0m 1s/step - accuracy: 1.0000 - loss: 0.0069 - val_accuracy: 1.0000 - val_loss: 0.0031 - learning_rate: 0.0010\n",
            "Epoch 17/20\n",
            "\u001b[1m63/63\u001b[0m \u001b[32m━━━━━━━━━━━━━━━━━━━━\u001b[0m\u001b[37m\u001b[0m \u001b[1m86s\u001b[0m 1s/step - accuracy: 1.0000 - loss: 0.0047 - val_accuracy: 1.0000 - val_loss: 0.0029 - learning_rate: 0.0010\n",
            "Epoch 18/20\n",
            "\u001b[1m63/63\u001b[0m \u001b[32m━━━━━━━━━━━━━━━━━━━━\u001b[0m\u001b[37m\u001b[0m \u001b[1m142s\u001b[0m 1s/step - accuracy: 1.0000 - loss: 0.0046 - val_accuracy: 1.0000 - val_loss: 0.0027 - learning_rate: 0.0010\n",
            "Epoch 19/20\n",
            "\u001b[1m63/63\u001b[0m \u001b[32m━━━━━━━━━━━━━━━━━━━━\u001b[0m\u001b[37m\u001b[0m \u001b[1m87s\u001b[0m 1s/step - accuracy: 1.0000 - loss: 0.0045 - val_accuracy: 1.0000 - val_loss: 0.0025 - learning_rate: 0.0010\n",
            "Epoch 20/20\n",
            "\u001b[1m63/63\u001b[0m \u001b[32m━━━━━━━━━━━━━━━━━━━━\u001b[0m\u001b[37m\u001b[0m \u001b[1m140s\u001b[0m 1s/step - accuracy: 1.0000 - loss: 0.0036 - val_accuracy: 1.0000 - val_loss: 0.0022 - learning_rate: 0.0010\n"
          ]
        }
      ]
    },
    {
      "cell_type": "code",
      "source": [
        "base_model.trainable = True\n",
        "# Fine-tune last N layers\n",
        "fine_tune_at = 100\n",
        "for layer in base_model.layers[:fine_tune_at]:\n",
        "    layer.trainable = False\n",
        "\n",
        "model.compile(optimizer=tf.keras.optimizers.Adam(1e-5), loss='sparse_categorical_crossentropy', metrics=['accuracy'])\n",
        "\n",
        "history_fine = model.fit(\n",
        "    train_ds,\n",
        "    validation_data=val_ds,\n",
        "    epochs=10,\n",
        "    callbacks=[early_stop, reduce_lr]\n",
        ")\n"
      ],
      "metadata": {
        "colab": {
          "base_uri": "https://localhost:8080/"
        },
        "id": "222T7WqGJb57",
        "outputId": "51d97227-feb5-4a31-8804-03ceb2c7ffe7"
      },
      "execution_count": 42,
      "outputs": [
        {
          "output_type": "stream",
          "name": "stdout",
          "text": [
            "Epoch 1/10\n",
            "\u001b[1m63/63\u001b[0m \u001b[32m━━━━━━━━━━━━━━━━━━━━\u001b[0m\u001b[37m\u001b[0m \u001b[1m167s\u001b[0m 2s/step - accuracy: 0.9996 - loss: 0.0014 - val_accuracy: 1.0000 - val_loss: 3.9286e-04 - learning_rate: 1.0000e-05\n",
            "Epoch 2/10\n",
            "\u001b[1m63/63\u001b[0m \u001b[32m━━━━━━━━━━━━━━━━━━━━\u001b[0m\u001b[37m\u001b[0m \u001b[1m146s\u001b[0m 2s/step - accuracy: 1.0000 - loss: 7.6364e-04 - val_accuracy: 1.0000 - val_loss: 6.4700e-04 - learning_rate: 1.0000e-05\n",
            "Epoch 3/10\n",
            "\u001b[1m63/63\u001b[0m \u001b[32m━━━━━━━━━━━━━━━━━━━━\u001b[0m\u001b[37m\u001b[0m \u001b[1m143s\u001b[0m 2s/step - accuracy: 1.0000 - loss: 2.3710e-04 - val_accuracy: 1.0000 - val_loss: 5.6670e-04 - learning_rate: 1.0000e-05\n",
            "Epoch 4/10\n",
            "\u001b[1m63/63\u001b[0m \u001b[32m━━━━━━━━━━━━━━━━━━━━\u001b[0m\u001b[37m\u001b[0m \u001b[1m141s\u001b[0m 2s/step - accuracy: 1.0000 - loss: 1.9245e-04 - val_accuracy: 1.0000 - val_loss: 5.2190e-04 - learning_rate: 1.0000e-05\n",
            "Epoch 5/10\n",
            "\u001b[1m63/63\u001b[0m \u001b[32m━━━━━━━━━━━━━━━━━━━━\u001b[0m\u001b[37m\u001b[0m \u001b[1m143s\u001b[0m 2s/step - accuracy: 1.0000 - loss: 3.6023e-04 - val_accuracy: 1.0000 - val_loss: 3.8257e-04 - learning_rate: 1.0000e-06\n",
            "Epoch 6/10\n",
            "\u001b[1m63/63\u001b[0m \u001b[32m━━━━━━━━━━━━━━━━━━━━\u001b[0m\u001b[37m\u001b[0m \u001b[1m139s\u001b[0m 2s/step - accuracy: 1.0000 - loss: 2.5815e-04 - val_accuracy: 1.0000 - val_loss: 3.0483e-04 - learning_rate: 1.0000e-06\n",
            "Epoch 7/10\n",
            "\u001b[1m63/63\u001b[0m \u001b[32m━━━━━━━━━━━━━━━━━━━━\u001b[0m\u001b[37m\u001b[0m \u001b[1m145s\u001b[0m 2s/step - accuracy: 1.0000 - loss: 1.4193e-04 - val_accuracy: 1.0000 - val_loss: 2.4541e-04 - learning_rate: 1.0000e-06\n",
            "Epoch 8/10\n",
            "\u001b[1m63/63\u001b[0m \u001b[32m━━━━━━━━━━━━━━━━━━━━\u001b[0m\u001b[37m\u001b[0m \u001b[1m147s\u001b[0m 2s/step - accuracy: 1.0000 - loss: 2.3375e-04 - val_accuracy: 1.0000 - val_loss: 2.0401e-04 - learning_rate: 1.0000e-06\n",
            "Epoch 9/10\n",
            "\u001b[1m63/63\u001b[0m \u001b[32m━━━━━━━━━━━━━━━━━━━━\u001b[0m\u001b[37m\u001b[0m \u001b[1m143s\u001b[0m 2s/step - accuracy: 1.0000 - loss: 2.5106e-04 - val_accuracy: 1.0000 - val_loss: 1.6445e-04 - learning_rate: 1.0000e-06\n",
            "Epoch 10/10\n",
            "\u001b[1m63/63\u001b[0m \u001b[32m━━━━━━━━━━━━━━━━━━━━\u001b[0m\u001b[37m\u001b[0m \u001b[1m201s\u001b[0m 2s/step - accuracy: 1.0000 - loss: 1.8575e-04 - val_accuracy: 1.0000 - val_loss: 1.4518e-04 - learning_rate: 1.0000e-06\n"
          ]
        }
      ]
    },
    {
      "cell_type": "code",
      "source": [
        "import matplotlib.pyplot as plt\n",
        "\n",
        "plt.plot(history.history['accuracy'], label='Mobileet V2 Train')\n",
        "plt.plot(history.history['val_accuracy'], label='Mobileet V2 Val')\n",
        "plt.title('Mobileet V2 Training and Validation Accuracy')\n",
        "plt.xlabel('Epochs')\n",
        "plt.ylabel('Accuracy')\n",
        "plt.legend()\n",
        "plt.show()\n"
      ],
      "metadata": {
        "colab": {
          "base_uri": "https://localhost:8080/",
          "height": 472
        },
        "id": "OShtLdXyJvwy",
        "outputId": "383fe9f5-9797-4117-f6b7-c2c3eab6b43e"
      },
      "execution_count": 39,
      "outputs": [
        {
          "output_type": "display_data",
          "data": {
            "text/plain": [
              "<Figure size 640x480 with 1 Axes>"
            ],
            "image/png": "[encoded data removed]"
          },
          "metadata": {}
        }
      ]
    },
    {
      "cell_type": "code",
      "source": [
        "test_loss_mv2, test_acc_mnv2 = model.evaluate(val_ds)\n",
        "print(f\"Final Test Accuracy: {test_acc_mnv2:.2f}\")\n"
      ],
      "metadata": {
        "colab": {
          "base_uri": "https://localhost:8080/"
        },
        "id": "QPNC_AlxJxgp",
        "outputId": "253fe907-987f-4fa3-89db-4badd37ecbfd"
      },
      "execution_count": 40,
      "outputs": [
        {
          "output_type": "stream",
          "name": "stdout",
          "text": [
            "\u001b[1m16/16\u001b[0m \u001b[32m━━━━━━━━━━━━━━━━━━━━\u001b[0m\u001b[37m\u001b[0m \u001b[1m19s\u001b[0m 1s/step - accuracy: 1.0000 - loss: 9.6027e-04\n",
            "Final Test Accuracy: 1.00\n"
          ]
        }
      ]
    },
    {
      "cell_type": "markdown",
      "source": [
        "Resnet50"
      ],
      "metadata": {
        "id": "ca_QReMQltbh"
      }
    },
    {
      "cell_type": "code",
      "source": [
        "from tensorflow.keras.applications.resnet50 import preprocess_input as resnet_preprocess\n"
      ],
      "metadata": {
        "id": "UUO2POmozfvK"
      },
      "execution_count": 26,
      "outputs": []
    },
    {
      "cell_type": "code",
      "source": [
        "def preprocess_resnet(image, label):\n",
        "    image = tf.image.resize(image, (IMG_SIZE, IMG_SIZE))\n",
        "    return resnet_preprocess(image), label\n",
        "\n",
        "train_ds_resnet = train_ds.map(lambda x, y: preprocess_resnet(x, y)).prefetch(1)\n",
        "val_ds_resnet = val_ds.map(lambda x, y: preprocess_resnet(x, y)).prefetch(1)\n"
      ],
      "metadata": {
        "id": "SJd04Jcczg_z"
      },
      "execution_count": 27,
      "outputs": []
    },
    {
      "cell_type": "code",
      "source": [
        "from tensorflow.keras.applications import ResNet50\n",
        "\n",
        "# Load base model\n",
        "resnet_base = ResNet50(\n",
        "    input_shape=(IMG_SIZE, IMG_SIZE, 3),\n",
        "    include_top=False,\n",
        "    weights='imagenet'\n",
        ")\n",
        "resnet_base.trainable = False  # freeze base\n",
        "\n",
        "# Build model\n",
        "resnet_model = tf.keras.Sequential([\n",
        "    resnet_base,\n",
        "    layers.GlobalAveragePooling2D(),\n",
        "    layers.Dropout(0.3),\n",
        "    layers.Dense(3, activation='softmax')  # 3 classes\n",
        "])\n",
        "\n",
        "resnet_model.compile(optimizer='adam', loss='sparse_categorical_crossentropy', metrics=['accuracy'])\n"
      ],
      "metadata": {
        "colab": {
          "base_uri": "https://localhost:8080/"
        },
        "id": "1izIZxrZzwmX",
        "outputId": "f6d48001-c7c6-4097-b1a6-5e6a31a194bf"
      },
      "execution_count": 28,
      "outputs": [
        {
          "output_type": "stream",
          "name": "stdout",
          "text": [
            "Downloading data from https://storage.googleapis.com/tensorflow/keras-applications/resnet/resnet50_weights_tf_dim_ordering_tf_kernels_notop.h5\n",
            "\u001b[1m94765736/94765736\u001b[0m \u001b[32m━━━━━━━━━━━━━━━━━━━━\u001b[0m\u001b[37m\u001b[0m \u001b[1m1s\u001b[0m 0us/step\n"
          ]
        }
      ]
    },
    {
      "cell_type": "code",
      "source": [
        "early_stop = tf.keras.callbacks.EarlyStopping(patience=5, restore_best_weights=True)\n",
        "reduce_lr = tf.keras.callbacks.ReduceLROnPlateau(patience=3)\n",
        "\n",
        "history_resnet = resnet_model.fit(\n",
        "    train_ds_resnet,\n",
        "    validation_data=val_ds_resnet,\n",
        "    epochs=20,\n",
        "    callbacks=[early_stop, reduce_lr]\n",
        ")\n"
      ],
      "metadata": {
        "colab": {
          "base_uri": "https://localhost:8080/"
        },
        "id": "IfnfROKg0QYq",
        "outputId": "d461c831-2bae-497b-dbd6-d99abd039a0e"
      },
      "execution_count": 29,
      "outputs": [
        {
          "output_type": "stream",
          "name": "stdout",
          "text": [
            "Epoch 1/20\n",
            "\u001b[1m63/63\u001b[0m \u001b[32m━━━━━━━━━━━━━━━━━━━━\u001b[0m\u001b[37m\u001b[0m \u001b[1m413s\u001b[0m 6s/step - accuracy: 0.6013 - loss: 0.8927 - val_accuracy: 0.9405 - val_loss: 0.4217 - learning_rate: 0.0010\n",
            "Epoch 2/20\n",
            "\u001b[1m63/63\u001b[0m \u001b[32m━━━━━━━━━━━━━━━━━━━━\u001b[0m\u001b[37m\u001b[0m \u001b[1m402s\u001b[0m 6s/step - accuracy: 0.9183 - loss: 0.3865 - val_accuracy: 0.9663 - val_loss: 0.2831 - learning_rate: 0.0010\n",
            "Epoch 3/20\n",
            "\u001b[1m63/63\u001b[0m \u001b[32m━━━━━━━━━━━━━━━━━━━━\u001b[0m\u001b[37m\u001b[0m \u001b[1m432s\u001b[0m 6s/step - accuracy: 0.9580 - loss: 0.2651 - val_accuracy: 0.9722 - val_loss: 0.2201 - learning_rate: 0.0010\n",
            "Epoch 4/20\n",
            "\u001b[1m63/63\u001b[0m \u001b[32m━━━━━━━━━━━━━━━━━━━━\u001b[0m\u001b[37m\u001b[0m \u001b[1m393s\u001b[0m 6s/step - accuracy: 0.9721 - loss: 0.2039 - val_accuracy: 0.9802 - val_loss: 0.1796 - learning_rate: 0.0010\n",
            "Epoch 5/20\n",
            "\u001b[1m63/63\u001b[0m \u001b[32m━━━━━━━━━━━━━━━━━━━━\u001b[0m\u001b[37m\u001b[0m \u001b[1m437s\u001b[0m 6s/step - accuracy: 0.9734 - loss: 0.1725 - val_accuracy: 0.9901 - val_loss: 0.1463 - learning_rate: 0.0010\n",
            "Epoch 6/20\n",
            "\u001b[1m63/63\u001b[0m \u001b[32m━━━━━━━━━━━━━━━━━━━━\u001b[0m\u001b[37m\u001b[0m \u001b[1m445s\u001b[0m 6s/step - accuracy: 0.9661 - loss: 0.1616 - val_accuracy: 0.9901 - val_loss: 0.1265 - learning_rate: 0.0010\n",
            "Epoch 7/20\n",
            "\u001b[1m63/63\u001b[0m \u001b[32m━━━━━━━━━━━━━━━━━━━━\u001b[0m\u001b[37m\u001b[0m \u001b[1m443s\u001b[0m 6s/step - accuracy: 0.9782 - loss: 0.1312 - val_accuracy: 0.9921 - val_loss: 0.1091 - learning_rate: 0.0010\n",
            "Epoch 8/20\n",
            "\u001b[1m63/63\u001b[0m \u001b[32m━━━━━━━━━━━━━━━━━━━━\u001b[0m\u001b[37m\u001b[0m \u001b[1m438s\u001b[0m 6s/step - accuracy: 0.9840 - loss: 0.1082 - val_accuracy: 0.9960 - val_loss: 0.1011 - learning_rate: 0.0010\n",
            "Epoch 9/20\n",
            "\u001b[1m63/63\u001b[0m \u001b[32m━━━━━━━━━━━━━━━━━━━━\u001b[0m\u001b[37m\u001b[0m \u001b[1m450s\u001b[0m 6s/step - accuracy: 0.9885 - loss: 0.1063 - val_accuracy: 0.9960 - val_loss: 0.0865 - learning_rate: 0.0010\n",
            "Epoch 10/20\n",
            "\u001b[1m63/63\u001b[0m \u001b[32m━━━━━━━━━━━━━━━━━━━━\u001b[0m\u001b[37m\u001b[0m \u001b[1m438s\u001b[0m 6s/step - accuracy: 0.9890 - loss: 0.0924 - val_accuracy: 0.9940 - val_loss: 0.0779 - learning_rate: 0.0010\n",
            "Epoch 11/20\n",
            "\u001b[1m63/63\u001b[0m \u001b[32m━━━━━━━━━━━━━━━━━━━━\u001b[0m\u001b[37m\u001b[0m \u001b[1m443s\u001b[0m 6s/step - accuracy: 0.9920 - loss: 0.0799 - val_accuracy: 0.9960 - val_loss: 0.0721 - learning_rate: 0.0010\n",
            "Epoch 12/20\n",
            "\u001b[1m63/63\u001b[0m \u001b[32m━━━━━━━━━━━━━━━━━━━━\u001b[0m\u001b[37m\u001b[0m \u001b[1m444s\u001b[0m 6s/step - accuracy: 0.9920 - loss: 0.0772 - val_accuracy: 0.9960 - val_loss: 0.0643 - learning_rate: 0.0010\n",
            "Epoch 13/20\n",
            "\u001b[1m63/63\u001b[0m \u001b[32m━━━━━━━━━━━━━━━━━━━━\u001b[0m\u001b[37m\u001b[0m \u001b[1m437s\u001b[0m 6s/step - accuracy: 0.9948 - loss: 0.0720 - val_accuracy: 0.9960 - val_loss: 0.0620 - learning_rate: 0.0010\n",
            "Epoch 14/20\n",
            "\u001b[1m63/63\u001b[0m \u001b[32m━━━━━━━━━━━━━━━━━━━━\u001b[0m\u001b[37m\u001b[0m \u001b[1m442s\u001b[0m 6s/step - accuracy: 0.9953 - loss: 0.0628 - val_accuracy: 0.9960 - val_loss: 0.0577 - learning_rate: 0.0010\n",
            "Epoch 15/20\n",
            "\u001b[1m63/63\u001b[0m \u001b[32m━━━━━━━━━━━━━━━━━━━━\u001b[0m\u001b[37m\u001b[0m \u001b[1m441s\u001b[0m 6s/step - accuracy: 0.9915 - loss: 0.0675 - val_accuracy: 0.9960 - val_loss: 0.0541 - learning_rate: 0.0010\n",
            "Epoch 16/20\n",
            "\u001b[1m63/63\u001b[0m \u001b[32m━━━━━━━━━━━━━━━━━━━━\u001b[0m\u001b[37m\u001b[0m \u001b[1m443s\u001b[0m 6s/step - accuracy: 0.9961 - loss: 0.0581 - val_accuracy: 0.9960 - val_loss: 0.0479 - learning_rate: 0.0010\n",
            "Epoch 17/20\n",
            "\u001b[1m63/63\u001b[0m \u001b[32m━━━━━━━━━━━━━━━━━━━━\u001b[0m\u001b[37m\u001b[0m \u001b[1m387s\u001b[0m 6s/step - accuracy: 0.9912 - loss: 0.0583 - val_accuracy: 0.9960 - val_loss: 0.0442 - learning_rate: 0.0010\n",
            "Epoch 18/20\n",
            "\u001b[1m63/63\u001b[0m \u001b[32m━━━━━━━━━━━━━━━━━━━━\u001b[0m\u001b[37m\u001b[0m \u001b[1m389s\u001b[0m 6s/step - accuracy: 0.9914 - loss: 0.0536 - val_accuracy: 0.9960 - val_loss: 0.0420 - learning_rate: 0.0010\n",
            "Epoch 19/20\n",
            "\u001b[1m63/63\u001b[0m \u001b[32m━━━━━━━━━━━━━━━━━━━━\u001b[0m\u001b[37m\u001b[0m \u001b[1m393s\u001b[0m 6s/step - accuracy: 0.9932 - loss: 0.0551 - val_accuracy: 0.9960 - val_loss: 0.0388 - learning_rate: 0.0010\n",
            "Epoch 20/20\n",
            "\u001b[1m63/63\u001b[0m \u001b[32m━━━━━━━━━━━━━━━━━━━━\u001b[0m\u001b[37m\u001b[0m \u001b[1m439s\u001b[0m 6s/step - accuracy: 0.9967 - loss: 0.0426 - val_accuracy: 0.9960 - val_loss: 0.0367 - learning_rate: 0.0010\n"
          ]
        }
      ]
    },
    {
      "cell_type": "code",
      "source": [
        "resnet_base.trainable = True\n",
        "\n",
        "# Fine-tune top N layers\n",
        "fine_tune_at = 100\n",
        "for layer in resnet_base.layers[:fine_tune_at]:\n",
        "    layer.trainable = False\n",
        "\n",
        "resnet_model.compile(optimizer=tf.keras.optimizers.Adam(1e-5), loss='sparse_categorical_crossentropy', metrics=['accuracy'])\n",
        "\n",
        "history_resnet_fine = resnet_model.fit(\n",
        "    train_ds_resnet,\n",
        "    validation_data=val_ds_resnet,\n",
        "    epochs=10,\n",
        "    callbacks=[early_stop, reduce_lr]\n",
        ")\n"
      ],
      "metadata": {
        "colab": {
          "base_uri": "https://localhost:8080/"
        },
        "id": "Uo6wHbXi0aGi",
        "outputId": "d5eb4a3f-66ed-4a5a-b87d-f97f364a54ce"
      },
      "execution_count": 30,
      "outputs": [
        {
          "output_type": "stream",
          "name": "stdout",
          "text": [
            "Epoch 1/10\n",
            "\u001b[1m63/63\u001b[0m \u001b[32m━━━━━━━━━━━━━━━━━━━━\u001b[0m\u001b[37m\u001b[0m \u001b[1m806s\u001b[0m 12s/step - accuracy: 0.7301 - loss: 3.2514 - val_accuracy: 0.9365 - val_loss: 0.1446 - learning_rate: 1.0000e-05\n",
            "Epoch 2/10\n",
            "\u001b[1m63/63\u001b[0m \u001b[32m━━━━━━━━━━━━━━━━━━━━\u001b[0m\u001b[37m\u001b[0m \u001b[1m770s\u001b[0m 12s/step - accuracy: 0.9975 - loss: 0.0043 - val_accuracy: 0.9782 - val_loss: 0.0635 - learning_rate: 1.0000e-05\n",
            "Epoch 3/10\n",
            "\u001b[1m63/63\u001b[0m \u001b[32m━━━━━━━━━━━━━━━━━━━━\u001b[0m\u001b[37m\u001b[0m \u001b[1m797s\u001b[0m 12s/step - accuracy: 0.9997 - loss: 0.0013 - val_accuracy: 1.0000 - val_loss: 0.0020 - learning_rate: 1.0000e-05\n",
            "Epoch 4/10\n",
            "\u001b[1m63/63\u001b[0m \u001b[32m━━━━━━━━━━━━━━━━━━━━\u001b[0m\u001b[37m\u001b[0m \u001b[1m803s\u001b[0m 12s/step - accuracy: 0.9950 - loss: 0.0071 - val_accuracy: 1.0000 - val_loss: 5.4149e-05 - learning_rate: 1.0000e-05\n",
            "Epoch 5/10\n",
            "\u001b[1m63/63\u001b[0m \u001b[32m━━━━━━━━━━━━━━━━━━━━\u001b[0m\u001b[37m\u001b[0m \u001b[1m802s\u001b[0m 12s/step - accuracy: 0.9992 - loss: 8.8593e-04 - val_accuracy: 1.0000 - val_loss: 2.2718e-06 - learning_rate: 1.0000e-05\n",
            "Epoch 6/10\n",
            "\u001b[1m63/63\u001b[0m \u001b[32m━━━━━━━━━━━━━━━━━━━━\u001b[0m\u001b[37m\u001b[0m \u001b[1m770s\u001b[0m 12s/step - accuracy: 0.9997 - loss: 0.0041 - val_accuracy: 1.0000 - val_loss: 5.0072e-07 - learning_rate: 1.0000e-05\n",
            "Epoch 7/10\n",
            "\u001b[1m63/63\u001b[0m \u001b[32m━━━━━━━━━━━━━━━━━━━━\u001b[0m\u001b[37m\u001b[0m \u001b[1m796s\u001b[0m 12s/step - accuracy: 1.0000 - loss: 3.1511e-04 - val_accuracy: 1.0000 - val_loss: 2.2423e-07 - learning_rate: 1.0000e-05\n",
            "Epoch 8/10\n",
            "\u001b[1m63/63\u001b[0m \u001b[32m━━━━━━━━━━━━━━━━━━━━\u001b[0m\u001b[37m\u001b[0m \u001b[1m792s\u001b[0m 13s/step - accuracy: 0.9994 - loss: 0.0032 - val_accuracy: 1.0000 - val_loss: 1.9419e-07 - learning_rate: 1.0000e-06\n",
            "Epoch 9/10\n",
            "\u001b[1m63/63\u001b[0m \u001b[32m━━━━━━━━━━━━━━━━━━━━\u001b[0m\u001b[37m\u001b[0m \u001b[1m771s\u001b[0m 12s/step - accuracy: 0.9984 - loss: 0.0023 - val_accuracy: 1.0000 - val_loss: 2.1051e-07 - learning_rate: 1.0000e-06\n",
            "Epoch 10/10\n",
            "\u001b[1m63/63\u001b[0m \u001b[32m━━━━━━━━━━━━━━━━━━━━\u001b[0m\u001b[37m\u001b[0m \u001b[1m760s\u001b[0m 12s/step - accuracy: 0.9997 - loss: 7.9289e-04 - val_accuracy: 1.0000 - val_loss: 1.9963e-07 - learning_rate: 1.0000e-06\n"
          ]
        }
      ]
    },
    {
      "cell_type": "code",
      "source": [
        "import matplotlib.pyplot as plt\n",
        "\n",
        "plt.plot(history_resnet.history['accuracy'], label='ResNet50 Train')\n",
        "plt.plot(history_resnet.history['val_accuracy'], label='ResNet50 Val')\n",
        "plt.title('ResNet50 Training & Validation Accuracy')\n",
        "plt.xlabel('Epoch')\n",
        "plt.ylabel('Accuracy')\n",
        "plt.legend()\n",
        "plt.show()\n"
      ],
      "metadata": {
        "colab": {
          "base_uri": "https://localhost:8080/",
          "height": 472
        },
        "id": "1x5C6YUM0ddn",
        "outputId": "9382dfb9-ae74-4819-f3b3-88b1602d8bc0"
      },
      "execution_count": 31,
      "outputs": [
        {
          "output_type": "display_data",
          "data": {
            "text/plain": [
              "<Figure size 640x480 with 1 Axes>"
            ],
            "image/png": "[encoded data removed]"
          },
          "metadata": {}
        }
      ]
    },
    {
      "cell_type": "code",
      "source": [
        "test_loss_rn, test_acc_rn = resnet_model.evaluate(val_ds_resnet)\n",
        "print(f\"ResNet50 Final Accuracy: {test_acc_rn:.2f}\")\n",
        "\n",
        ""
      ],
      "metadata": {
        "colab": {
          "base_uri": "https://localhost:8080/"
        },
        "id": "Fi-MuzJ40gYt",
        "outputId": "fa63bab4-baf2-4749-9761-710424559bb8"
      },
      "execution_count": 32,
      "outputs": [
        {
          "output_type": "stream",
          "name": "stdout",
          "text": [
            "\u001b[1m16/16\u001b[0m \u001b[32m━━━━━━━━━━━━━━━━━━━━\u001b[0m\u001b[37m\u001b[0m \u001b[1m80s\u001b[0m 5s/step - accuracy: 1.0000 - loss: 1.6974e-07\n",
            "ResNet50 Final Accuracy: 1.00\n"
          ]
        }
      ]
    },
    {
      "cell_type": "code",
      "source": [
        "print(f\"MobileNetV2 Accuracy: {test_acc_mnv2:.2f}\")\n",
        "print(f\"ResNet50 Accuracy: {test_acc_rn:.2f}\")\n"
      ],
      "metadata": {
        "colab": {
          "base_uri": "https://localhost:8080/"
        },
        "id": "mbRNQRd20oFG",
        "outputId": "ec285c64-4c60-4b42-9ac5-9d716ddc1f2d"
      },
      "execution_count": 34,
      "outputs": [
        {
          "output_type": "stream",
          "name": "stdout",
          "text": [
            "ResNet50 Accuracy: 1.00\n"
          ]
        }
      ]
    },
    {
      "cell_type": "code",
      "source": [
        "import pandas as pd\n",
        "\n",
        "results_df = pd.DataFrame({\n",
        "    \"Model\": [\"MobileNetV2\", \"ResNet50\"],\n",
        "    \"Validation Accuracy\": [test_acc_mnv2, test_acc_rn],\n",
        "    \"Parameters\": [\"~3.5M\", \"~25.6M\"],\n",
        "    \"Model Size\": [\"~14MB\", \"~98MB\"],\n",
        "    \"Notes\": [\"Fast inference\", \"More accurate, heavier\"]\n",
        "})\n",
        "\n",
        "print(results_df)\n"
      ],
      "metadata": {
        "colab": {
          "base_uri": "https://localhost:8080/"
        },
        "id": "gXQVjBEHJAGd",
        "outputId": "0cb247df-b96b-4a9f-8ae1-2387518eea4f"
      },
      "execution_count": 41,
      "outputs": [
        {
          "output_type": "stream",
          "name": "stdout",
          "text": [
            "         Model  Validation Accuracy Parameters Model Size  \\\n",
            "0  MobileNetV2                  1.0      ~3.5M      ~14MB   \n",
            "1     ResNet50                  1.0     ~25.6M      ~98MB   \n",
            "\n",
            "                    Notes  \n",
            "0          Fast inference  \n",
            "1  More accurate, heavier  \n"
          ]
        }
      ]
    },
    {
      "cell_type": "code",
      "source": [],
      "metadata": {
        "id": "BUHLo5zSSTF_"
      },
      "execution_count": null,
      "outputs": []
    }
  ]
}